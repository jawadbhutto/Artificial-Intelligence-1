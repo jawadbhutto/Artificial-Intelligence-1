{
 "cells": [
  {
   "cell_type": "code",
   "execution_count": 1,
   "id": "a59c4ff7-6f2f-4702-802f-975011214af0",
   "metadata": {},
   "outputs": [
    {
     "name": "stdout",
     "output_type": "stream",
     "text": [
      "['apple', 'banana', 'cherry', 'date']\n"
     ]
    }
   ],
   "source": [
    "fruits = [\"apple\", \"banana\", \"cherry\", \"date\"]\n",
    "print(fruits)"
   ]
  },
  {
   "cell_type": "code",
   "execution_count": 2,
   "id": "15818a4e-c5e4-4b47-b2da-0c363c7d46ee",
   "metadata": {},
   "outputs": [
    {
     "name": "stdout",
     "output_type": "stream",
     "text": [
      "[51, 'JAWAD AHMED BHUTTO', 'M', True]\n",
      "<class 'list'>\n",
      "51\n",
      "4\n",
      "53\n"
     ]
    }
   ],
   "source": [
    "details = [51, \"JAWAD AHMED BHUTTO\", 'M',True]\n",
    "print(details)\n",
    "print(type(details))\n",
    "print(details[0])\n",
    "print(len(details))\n",
    "details[0]=53\n",
    "print(details[0])"
   ]
  },
  {
   "cell_type": "code",
   "execution_count": null,
   "id": "696d70e9-718a-4864-9f3b-157c37c6a088",
   "metadata": {},
   "outputs": [],
   "source": []
  }
 ],
 "metadata": {
  "kernelspec": {
   "display_name": "Python 3 (ipykernel)",
   "language": "python",
   "name": "python3"
  },
  "language_info": {
   "codemirror_mode": {
    "name": "ipython",
    "version": 3
   },
   "file_extension": ".py",
   "mimetype": "text/x-python",
   "name": "python",
   "nbconvert_exporter": "python",
   "pygments_lexer": "ipython3",
   "version": "3.12.4"
  }
 },
 "nbformat": 4,
 "nbformat_minor": 5
}
