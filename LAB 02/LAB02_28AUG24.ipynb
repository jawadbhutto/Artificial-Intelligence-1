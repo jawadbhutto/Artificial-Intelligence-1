{
 "cells": [
  {
   "cell_type": "code",
   "execution_count": 16,
   "id": "9f178a3e-ecbc-43c5-a7f1-a64aef06ab11",
   "metadata": {},
   "outputs": [
    {
     "name": "stdin",
     "output_type": "stream",
     "text": [
      " 0\n"
     ]
    },
    {
     "name": "stdout",
     "output_type": "stream",
     "text": [
      "Number is Negative\n"
     ]
    }
   ],
   "source": [
    "# Task 1\n",
    "num1 =int(input())\n",
    "if num1>0 :\n",
    "    print(\"Number is Positive\")\n",
    "else:\n",
    "    print(\"Number is Negative\")"
   ]
  },
  {
   "cell_type": "code",
   "execution_count": 18,
   "id": "22ef38cc-c46e-4202-8ccd-5200c35c19a5",
   "metadata": {},
   "outputs": [
    {
     "name": "stdin",
     "output_type": "stream",
     "text": [
      " 66\n"
     ]
    },
    {
     "name": "stdout",
     "output_type": "stream",
     "text": [
      "Grade: D\n"
     ]
    }
   ],
   "source": [
    "# Task 2\n",
    "score =int(input())\n",
    "\n",
    "if score>=90:\n",
    "    print(\"Grade: A\")\n",
    "elif score>=80:\n",
    "    print(\"Grade: B\")\n",
    "elif score>=70:\n",
    "    print(\"Grade: C\")\n",
    "elif score>=60:\n",
    "    print(\"Grade: D\")\n",
    "else:\n",
    "    print(\"Grade: F\")\n"
   ]
  },
  {
   "cell_type": "code",
   "execution_count": null,
   "id": "6c64fbac-e69a-49d4-a2a5-8bfbf8f7a800",
   "metadata": {},
   "outputs": [],
   "source": [
    "#Task 3\n",
    "sum = 0\n",
    "for var in range(1,14,2):\n",
    "    sum = sum + var\n",
    "\n",
    "print(sum)"
   ]
  },
  {
   "cell_type": "code",
   "execution_count": null,
   "id": "869cf771-6359-4d76-917a-244867037d25",
   "metadata": {},
   "outputs": [],
   "source": [
    "#Task 4\n",
    "fact = int(input())\n",
    "total = 1\n",
    "while fact>0 :\n",
    "    total *= fact\n",
    "    fact=fact-1\n",
    "\n",
    "print(total)"
   ]
  },
  {
   "cell_type": "code",
   "execution_count": null,
   "id": "de13933d-2171-43e1-9ba3-4c21a8913ac3",
   "metadata": {},
   "outputs": [],
   "source": [
    "# Task 5\n",
    "movies = [\"Mirzapur\",\"Raees\",\"Diamond Bazar\", \"Money Heist\", \"Farzi\"]\n",
    "print(movies)"
   ]
  },
  {
   "cell_type": "code",
   "execution_count": 20,
   "id": "ead227d6-9aae-4879-8acc-9d34f51eef92",
   "metadata": {},
   "outputs": [
    {
     "name": "stdout",
     "output_type": "stream",
     "text": [
      "[1, 2, 3, 4, 5, 6, 7, 8, 9, 10]\n"
     ]
    }
   ],
   "source": [
    "num_list = [1,2,3,4,5,6,7,8,9,10]\n",
    "print(num_list)"
   ]
  },
  {
   "cell_type": "code",
   "execution_count": 29,
   "id": "570eba3b-0c05-455c-9f4c-567dff87e4ea",
   "metadata": {},
   "outputs": [
    {
     "name": "stdout",
     "output_type": "stream",
     "text": [
      "[1, 3, 4, 5, 7]\n"
     ]
    }
   ],
   "source": [
    "given_list = [1,3,5,7]\n",
    "given_list.insert(2,4)\n",
    "print(given_list)"
   ]
  },
  {
   "cell_type": "code",
   "execution_count": 30,
   "id": "1734d53d-9873-4410-bd74-bc9b2bbcd0a9",
   "metadata": {},
   "outputs": [
    {
     "name": "stdout",
     "output_type": "stream",
     "text": [
      "['Java', 'C++', 'JavaScript', 'Python']\n"
     ]
    }
   ],
   "source": [
    "language = [\"Java\", \"C++\", \"JavaScript\"]\n",
    "language.append(\"Python\")\n",
    "print(language)\n",
    "    "
   ]
  },
  {
   "cell_type": "code",
   "execution_count": 31,
   "id": "4d7a695a-6bab-434e-944c-3eeb028a9baf",
   "metadata": {},
   "outputs": [
    {
     "name": "stdout",
     "output_type": "stream",
     "text": [
      "[10, 20, 40, 50]\n"
     ]
    }
   ],
   "source": [
    "number = [10,20,30,40,50]\n",
    "number.pop(2)\n",
    "print(number)"
   ]
  },
  {
   "cell_type": "code",
   "execution_count": 54,
   "id": "8a0a7e34-6884-41a1-a2fc-b255af7d13e7",
   "metadata": {},
   "outputs": [
    {
     "name": "stdout",
     "output_type": "stream",
     "text": [
      "['apple', 'banana', 'cherry']\n",
      "['banana', 'cherry']\n"
     ]
    }
   ],
   "source": [
    "fruit = [\"apple\", \"banana\", \"cherry\"]\n",
    "print(fruit)\n",
    "del fruit[0]\n",
    "print(fruit)"
   ]
  },
  {
   "cell_type": "code",
   "execution_count": 55,
   "id": "08f0c1d0-4f20-479a-9b81-83a4af9ee91b",
   "metadata": {},
   "outputs": [
    {
     "name": "stdout",
     "output_type": "stream",
     "text": [
      "[1, 2, 5, 9]\n"
     ]
    }
   ],
   "source": [
    "giv_list = [5,2,9,1]\n",
    "giv_list.sort()\n",
    "print(giv_list)"
   ]
  },
  {
   "cell_type": "code",
   "execution_count": 56,
   "id": "07858609-caee-4157-ba67-551a7e3d18fd",
   "metadata": {},
   "outputs": [
    {
     "name": "stdout",
     "output_type": "stream",
     "text": [
      "Help on method_descriptor:\n",
      "\n",
      "sort(self, /, *, key=None, reverse=False) unbound builtins.list method\n",
      "    Sort the list in ascending order and return None.\n",
      "\n",
      "    The sort is in-place (i.e. the list itself is modified) and stable (i.e. the\n",
      "    order of two equal elements is maintained).\n",
      "\n",
      "    If a key function is given, apply it once to each list item and sort them,\n",
      "    ascending or descending, according to their function values.\n",
      "\n",
      "    The reverse flag can be set to sort in descending order.\n",
      "\n"
     ]
    }
   ],
   "source": [
    "help(list.sort)"
   ]
  },
  {
   "cell_type": "code",
   "execution_count": 1,
   "id": "cbfb79e0-0ff2-4bf2-922f-0b1f1e756b32",
   "metadata": {},
   "outputs": [
    {
     "name": "stdout",
     "output_type": "stream",
     "text": [
      "['cherry', 'banana', 'apple']\n"
     ]
    }
   ],
   "source": [
    "fruit_list=[\"banana\", \"apple\",\"cherry\"]\n",
    "fruit_list.sort(reverse=True)\n",
    "print(fruit_list)"
   ]
  },
  {
   "cell_type": "code",
   "execution_count": 3,
   "id": "7ccebdbe-87e1-41ed-bb1e-63e6234c4e08",
   "metadata": {},
   "outputs": [
    {
     "name": "stdout",
     "output_type": "stream",
     "text": [
      "['c', 'd', 'e']\n"
     ]
    }
   ],
   "source": [
    "char_list = ['a','b','c','d','e','f']\n",
    "sub_list =char_list[2:5]\n",
    "print(sub_list)"
   ]
  },
  {
   "cell_type": "code",
   "execution_count": 9,
   "id": "189933ce-bfcd-46f7-89c3-052c1b6a3442",
   "metadata": {},
   "outputs": [
    {
     "name": "stdout",
     "output_type": "stream",
     "text": [
      "[20, 30, 40, 50]\n"
     ]
    }
   ],
   "source": [
    "num_list = [10,20,30,40,50]\n",
    "sub_num_list = num_list[1:]  #[start,stop,step]\n",
    "print(sub_num_list)"
   ]
  },
  {
   "cell_type": "code",
   "execution_count": null,
   "id": "a339047b-a129-4f74-bee1-6aedaae1a0f0",
   "metadata": {},
   "outputs": [],
   "source": []
  }
 ],
 "metadata": {
  "kernelspec": {
   "display_name": "Python 3 (ipykernel)",
   "language": "python",
   "name": "python3"
  },
  "language_info": {
   "codemirror_mode": {
    "name": "ipython",
    "version": 3
   },
   "file_extension": ".py",
   "mimetype": "text/x-python",
   "name": "python",
   "nbconvert_exporter": "python",
   "pygments_lexer": "ipython3",
   "version": "3.12.4"
  }
 },
 "nbformat": 4,
 "nbformat_minor": 5
}
