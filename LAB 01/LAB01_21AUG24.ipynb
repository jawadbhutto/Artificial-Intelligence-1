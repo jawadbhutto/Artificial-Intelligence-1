{
 "cells": [
  {
   "cell_type": "code",
   "execution_count": 1,
   "id": "04d9e8b4-178e-4491-84aa-682311ada335",
   "metadata": {},
   "outputs": [
    {
     "name": "stdin",
     "output_type": "stream",
     "text": [
      "Enter your Age:  2\n"
     ]
    },
    {
     "name": "stdout",
     "output_type": "stream",
     "text": [
      "17520\n"
     ]
    }
   ],
   "source": [
    "#Task 1\n",
    "age = int(input(\"Enter your Age: \")) \n",
    "print(24*365*age,\" Hours\")\n"
   ]
  },
  {
   "cell_type": "code",
   "execution_count": 7,
   "id": "34df7c1c-59a8-4860-b10e-4f3acd321a55",
   "metadata": {},
   "outputs": [
    {
     "name": "stdin",
     "output_type": "stream",
     "text": [
      "Enter Radius:  2\n"
     ]
    },
    {
     "name": "stdout",
     "output_type": "stream",
     "text": [
      "Calculated Area of Circle:  12.56\n"
     ]
    }
   ],
   "source": [
    "#Task 2\n",
    "radius = float(input(\"Enter Radius: \"))\n",
    "print(\"Calculated Area of Circle: \",3.14*radius**2)"
   ]
  },
  {
   "cell_type": "code",
   "execution_count": 8,
   "id": "7122a3f1-0675-4353-81a9-d620026537ce",
   "metadata": {},
   "outputs": [
    {
     "name": "stdin",
     "output_type": "stream",
     "text": [
      "Enter Temperature:  50\n"
     ]
    },
    {
     "name": "stdout",
     "output_type": "stream",
     "text": [
      "122.0\n"
     ]
    }
   ],
   "source": [
    "#Task 3\n",
    "temp_celcius = int(input(\"Enter Temperature: \"))\n",
    "fahrenheit = (temp_celcius*9/5)+32\n",
    "print(fahrenheit)\n"
   ]
  }
 ],
 "metadata": {
  "kernelspec": {
   "display_name": "Python 3 (ipykernel)",
   "language": "python",
   "name": "python3"
  },
  "language_info": {
   "codemirror_mode": {
    "name": "ipython",
    "version": 3
   },
   "file_extension": ".py",
   "mimetype": "text/x-python",
   "name": "python",
   "nbconvert_exporter": "python",
   "pygments_lexer": "ipython3",
   "version": "3.12.4"
  }
 },
 "nbformat": 4,
 "nbformat_minor": 5
}
