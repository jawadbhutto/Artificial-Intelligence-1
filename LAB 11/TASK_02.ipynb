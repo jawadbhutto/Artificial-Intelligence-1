{
 "cells": [
  {
   "cell_type": "code",
   "execution_count": 9,
   "id": "7d1edef2-9882-46f2-83da-c0b15a9b4273",
   "metadata": {},
   "outputs": [
    {
     "name": "stdout",
     "output_type": "stream",
     "text": [
      "Cleaned Text: character a the galaxy is in turmoil the rebels are fighting \n",
      "to overthrow the empire and we need to find a way to communicate with the leaders \n",
      "we cant let the forces of darkness take over our world \n",
      "character b i agree the resistance is our only hope but how can we gain support \n",
      "from the people we need a strategy to win their hearts and minds to unite them \n",
      "against the empire \n",
      "character a we must focus on the key battles and disrupt their communication lines \n",
      "we also need to create a powerful message that inspires hope if we can sway public \n",
      "opinion we can win this war\n",
      "Bag of Words: ['character', 'a', 'the', 'galaxy', 'is', 'in', 'turmoil', 'the', 'rebels', 'are', 'fighting', 'to', 'overthrow', 'the', 'empire', 'and', 'we', 'need', 'to', 'find', 'a', 'way', 'to', 'communicate', 'with', 'the', 'leaders', 'we', 'cant', 'let', 'the', 'forces', 'of', 'darkness', 'take', 'over', 'our', 'world', 'character', 'b', 'i', 'agree', 'the', 'resistance', 'is', 'our', 'only', 'hope', 'but', 'how', 'can', 'we', 'gain', 'support', 'from', 'the', 'people', 'we', 'need', 'a', 'strategy', 'to', 'win', 'their', 'hearts', 'and', 'minds', 'to', 'unite', 'them', 'against', 'the', 'empire', 'character', 'a', 'we', 'must', 'focus', 'on', 'the', 'key', 'battles', 'and', 'disrupt', 'their', 'communication', 'lines', 'we', 'also', 'need', 'to', 'create', 'a', 'powerful', 'message', 'that', 'inspires', 'hope', 'if', 'we', 'can', 'sway', 'public', 'opinion', 'we', 'can', 'win', 'this', 'war']\n",
      " \n",
      "Word Frequencies: Counter({'the': 9, 'we': 8, 'to': 6, 'a': 5, 'character': 3, 'and': 3, 'need': 3, 'can': 3, 'is': 2, 'empire': 2, 'our': 2, 'hope': 2, 'win': 2, 'their': 2, 'galaxy': 1, 'in': 1, 'turmoil': 1, 'rebels': 1, 'are': 1, 'fighting': 1, 'overthrow': 1, 'find': 1, 'way': 1, 'communicate': 1, 'with': 1, 'leaders': 1, 'cant': 1, 'let': 1, 'forces': 1, 'of': 1, 'darkness': 1, 'take': 1, 'over': 1, 'world': 1, 'b': 1, 'i': 1, 'agree': 1, 'resistance': 1, 'only': 1, 'but': 1, 'how': 1, 'gain': 1, 'support': 1, 'from': 1, 'people': 1, 'strategy': 1, 'hearts': 1, 'minds': 1, 'unite': 1, 'them': 1, 'against': 1, 'must': 1, 'focus': 1, 'on': 1, 'key': 1, 'battles': 1, 'disrupt': 1, 'communication': 1, 'lines': 1, 'also': 1, 'create': 1, 'powerful': 1, 'message': 1, 'that': 1, 'inspires': 1, 'if': 1, 'sway': 1, 'public': 1, 'opinion': 1, 'this': 1, 'war': 1})\n",
      "Identified Topic: the\n"
     ]
    }
   ],
   "source": [
    "from collections import Counter\n",
    "import string\n",
    "\n",
    "# Preprocess the text\n",
    "def preprocess_text(text):\n",
    "    # Convert to lowercase\n",
    "    text = text.lower()\n",
    "    # Remove punctuation\n",
    "    text = text.translate(str.maketrans('', '', string.punctuation))\n",
    "    return text\n",
    "\n",
    "# Create a Bag of Words\n",
    "def bag_of_words(text):\n",
    "    words = text.split()\n",
    "    return words\n",
    "\n",
    "# Count Word Frequencies\n",
    "def word_frequencies(words):\n",
    "    return Counter(words)\n",
    "\n",
    "# Identify the Topic\n",
    "def identify_topic(counter):\n",
    "    # Assume the most frequent word is indicative of the topic\n",
    "    return counter.most_common(1)[0][0] if counter else None\n",
    "\n",
    "# Example Dialogue\n",
    "# Corrected dialogue string\n",
    "dialogue = \"\"\"Character A: \\\"The galaxy is in turmoil. The rebels are fighting \n",
    "to overthrow the empire, and we need to find a way to communicate with the leaders. \n",
    "We can't let the forces of darkness take over our world.\\\" \n",
    "Character B: \\\"I agree. The resistance is our only hope. But how can we gain support \n",
    "from the people? We need a strategy to win their hearts and minds, to unite them \n",
    "against the empire.\\\" \n",
    "Character A: \\\"We must focus on the key battles and disrupt their communication lines. \n",
    "We also need to create a powerful message that inspires hope. If we can sway public \n",
    "opinion, we can win this war.\\\"\"\"\"\n",
    "\n",
    "\n",
    "# Processing the Dialogue\n",
    "cleaned_text = preprocess_text(dialogue)\n",
    "words = bag_of_words(cleaned_text)\n",
    "frequencies = word_frequencies(words)\n",
    "topic = identify_topic(frequencies)\n",
    "\n",
    "# Output Results\n",
    "print(\"Cleaned Text:\", cleaned_text)\n",
    "print(\"Bag of Words:\", words)\n",
    "print(\" \")\n",
    "print(\"Word Frequencies:\", frequencies)\n",
    "print(\"Identified Topic:\", topic)\n"
   ]
  },
  {
   "cell_type": "code",
   "execution_count": null,
   "id": "894f2477-8435-4ba8-ac91-eb5e66487f59",
   "metadata": {},
   "outputs": [],
   "source": []
  }
 ],
 "metadata": {
  "kernelspec": {
   "display_name": "Python 3 (ipykernel)",
   "language": "python",
   "name": "python3"
  },
  "language_info": {
   "codemirror_mode": {
    "name": "ipython",
    "version": 3
   },
   "file_extension": ".py",
   "mimetype": "text/x-python",
   "name": "python",
   "nbconvert_exporter": "python",
   "pygments_lexer": "ipython3",
   "version": "3.12.4"
  }
 },
 "nbformat": 4,
 "nbformat_minor": 5
}
