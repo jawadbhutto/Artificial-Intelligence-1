{
 "cells": [
  {
   "cell_type": "code",
   "execution_count": 1,
   "id": "2e91301b-ddd7-4913-92f2-3abb5f25699f",
   "metadata": {},
   "outputs": [
    {
     "name": "stdout",
     "output_type": "stream",
     "text": [
      "True\n",
      "True\n"
     ]
    }
   ],
   "source": [
    "import re\n",
    "\n",
    "# Task 1a: Match a string that starts with a capital letter and ends with a period\n",
    "def starts_with_capital_ends_with_period(text):\n",
    "    pattern = r\"^[A-Z].*\\.$\"\n",
    "    return bool(re.match(pattern, text))\n",
    "\n",
    "# Example usage for Task 1a\n",
    "text_1 = \"Hello world.\"\n",
    "print(starts_with_capital_ends_with_period(text_1))  # Output: True\n",
    "\n",
    "# Task 1b: Match a string with exactly 5 digits\n",
    "def match_five_digit_string(text):\n",
    "    pattern = r\"^\\d{5}$\"\n",
    "    return bool(re.match(pattern, text))\n",
    "\n",
    "# Example usage for Task 1b\n",
    "text_2 = \"12345\"\n",
    "print(match_five_digit_string(text_2))  # Output: True\n"
   ]
  },
  {
   "cell_type": "code",
   "execution_count": null,
   "id": "848641ba-73b8-4f54-90fb-3552fa91d687",
   "metadata": {},
   "outputs": [],
   "source": []
  }
 ],
 "metadata": {
  "kernelspec": {
   "display_name": "Python 3 (ipykernel)",
   "language": "python",
   "name": "python3"
  },
  "language_info": {
   "codemirror_mode": {
    "name": "ipython",
    "version": 3
   },
   "file_extension": ".py",
   "mimetype": "text/x-python",
   "name": "python",
   "nbconvert_exporter": "python",
   "pygments_lexer": "ipython3",
   "version": "3.12.4"
  }
 },
 "nbformat": 4,
 "nbformat_minor": 5
}
