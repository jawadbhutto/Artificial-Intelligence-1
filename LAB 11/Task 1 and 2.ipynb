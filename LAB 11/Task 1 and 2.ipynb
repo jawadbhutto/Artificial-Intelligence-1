{
 "cells": [
  {
   "cell_type": "code",
   "execution_count": 7,
   "id": "e98302df-4757-43db-a994-6dcb4844bced",
   "metadata": {},
   "outputs": [],
   "source": [
    "#Task 1\n",
    "import re"
   ]
  },
  {
   "cell_type": "code",
   "execution_count": 25,
   "id": "197a332b-bf5b-4b28-9402-8deb5b3e2bf3",
   "metadata": {},
   "outputs": [
    {
     "name": "stdout",
     "output_type": "stream",
     "text": [
      "True\n"
     ]
    },
    {
     "data": {
      "text/plain": [
       "<re.Match object; span=(0, 11), match='Hello Sain.'>"
      ]
     },
     "execution_count": 25,
     "metadata": {},
     "output_type": "execute_result"
    }
   ],
   "source": [
    "starts_with_capital_ends_with_period_Pattern = r\"^[A-Z].*\\.$\"\n",
    "text_1 = \"Hello Sain.\"\n",
    "matched_or_not = bool(re.match(starts_with_capital_ends_with_period_Pattern, text_1))\n",
    "print(matched_or_not)\n",
    "re.match(starts_with_capital_ends_with_period_Pattern, text_1)"
   ]
  },
  {
   "cell_type": "code",
   "execution_count": 28,
   "id": "2793bbf6-5e71-406a-894d-0f3e7a0c4940",
   "metadata": {},
   "outputs": [
    {
     "name": "stdout",
     "output_type": "stream",
     "text": [
      "False\n"
     ]
    }
   ],
   "source": [
    "match_five_digit_string_Pattern = r\"^\\d{5}$\"\n",
    "text_2 = \"1234\"\n",
    "matched_or_not = bool(re.match(match_five_digit_string_Pattern, text_2))\n",
    "print(matched_or_not)\n",
    "re.match(match_five_digit_string_Pattern, text_2)"
   ]
  },
  {
   "cell_type": "code",
   "execution_count": 1,
   "id": "9f91c8e2-f1da-42da-9d23-305e4c6109b2",
   "metadata": {},
   "outputs": [],
   "source": [
    "#Task 2\n",
    "from collections import Counter\n",
    "import string"
   ]
  },
  {
   "cell_type": "code",
   "execution_count": 2,
   "id": "3133a950-77ea-4a44-90a0-d2450ab337fd",
   "metadata": {},
   "outputs": [
    {
     "data": {
      "text/plain": [
       "'character a the galaxy is in turmoil the rebels are fighting \\nto overthrow the empire and we need to find a way to communicate with the leaders \\nwe cant let the forces of darkness take over our world \\ncharacter b i agree the resistance is our only hope but how can we gain support \\nfrom the people we need a strategy to win their hearts and minds to unite them \\nagainst the empire \\ncharacter a we must focus on the key battles and disrupt their communication lines \\nwe also need to create a powerful message that inspires hope if we can sway public \\nopinion we can win this war'"
      ]
     },
     "execution_count": 2,
     "metadata": {},
     "output_type": "execute_result"
    }
   ],
   "source": [
    "text1 = \"\"\"Character A: \\\"The galaxy is in turmoil. The rebels are fighting \n",
    "to overthrow the empire, and we need to find a way to communicate with the leaders. \n",
    "We can't let the forces of darkness take over our world.\\\" \n",
    "Character B: \\\"I agree. The resistance is our only hope. But how can we gain support \n",
    "from the people? We need a strategy to win their hearts and minds, to unite them \n",
    "against the empire.\\\" \n",
    "Character A: \\\"We must focus on the key battles and disrupt their communication lines. \n",
    "We also need to create a powerful message that inspires hope. If we can sway public \n",
    "opinion, we can win this war.\\\"\"\"\"\n",
    "\n",
    "text1 = text1.lower()\n",
    "    # Remove punctuation\n",
    "text1 = text1.translate(str.maketrans('', '', string.punctuation))\n",
    "text1"
   ]
  },
  {
   "cell_type": "code",
   "execution_count": 4,
   "id": "38be7549-3106-4de1-ac6b-a8ef06ce2347",
   "metadata": {},
   "outputs": [
    {
     "data": {
      "text/plain": [
       "['character',\n",
       " 'a',\n",
       " 'the',\n",
       " 'galaxy',\n",
       " 'is',\n",
       " 'in',\n",
       " 'turmoil',\n",
       " 'the',\n",
       " 'rebels',\n",
       " 'are',\n",
       " 'fighting',\n",
       " 'to',\n",
       " 'overthrow',\n",
       " 'the',\n",
       " 'empire',\n",
       " 'and',\n",
       " 'we',\n",
       " 'need',\n",
       " 'to',\n",
       " 'find',\n",
       " 'a',\n",
       " 'way',\n",
       " 'to',\n",
       " 'communicate',\n",
       " 'with',\n",
       " 'the',\n",
       " 'leaders',\n",
       " 'we',\n",
       " 'cant',\n",
       " 'let',\n",
       " 'the',\n",
       " 'forces',\n",
       " 'of',\n",
       " 'darkness',\n",
       " 'take',\n",
       " 'over',\n",
       " 'our',\n",
       " 'world',\n",
       " 'character',\n",
       " 'b',\n",
       " 'i',\n",
       " 'agree',\n",
       " 'the',\n",
       " 'resistance',\n",
       " 'is',\n",
       " 'our',\n",
       " 'only',\n",
       " 'hope',\n",
       " 'but',\n",
       " 'how',\n",
       " 'can',\n",
       " 'we',\n",
       " 'gain',\n",
       " 'support',\n",
       " 'from',\n",
       " 'the',\n",
       " 'people',\n",
       " 'we',\n",
       " 'need',\n",
       " 'a',\n",
       " 'strategy',\n",
       " 'to',\n",
       " 'win',\n",
       " 'their',\n",
       " 'hearts',\n",
       " 'and',\n",
       " 'minds',\n",
       " 'to',\n",
       " 'unite',\n",
       " 'them',\n",
       " 'against',\n",
       " 'the',\n",
       " 'empire',\n",
       " 'character',\n",
       " 'a',\n",
       " 'we',\n",
       " 'must',\n",
       " 'focus',\n",
       " 'on',\n",
       " 'the',\n",
       " 'key',\n",
       " 'battles',\n",
       " 'and',\n",
       " 'disrupt',\n",
       " 'their',\n",
       " 'communication',\n",
       " 'lines',\n",
       " 'we',\n",
       " 'also',\n",
       " 'need',\n",
       " 'to',\n",
       " 'create',\n",
       " 'a',\n",
       " 'powerful',\n",
       " 'message',\n",
       " 'that',\n",
       " 'inspires',\n",
       " 'hope',\n",
       " 'if',\n",
       " 'we',\n",
       " 'can',\n",
       " 'sway',\n",
       " 'public',\n",
       " 'opinion',\n",
       " 'we',\n",
       " 'can',\n",
       " 'win',\n",
       " 'this',\n",
       " 'war']"
      ]
     },
     "execution_count": 4,
     "metadata": {},
     "output_type": "execute_result"
    }
   ],
   "source": [
    "words = text1.split()\n",
    "words"
   ]
  },
  {
   "cell_type": "code",
   "execution_count": 5,
   "id": "21601d07-17a2-452e-be8e-1ced2d8a5820",
   "metadata": {},
   "outputs": [
    {
     "data": {
      "text/plain": [
       "Counter({'the': 9,\n",
       "         'we': 8,\n",
       "         'to': 6,\n",
       "         'a': 5,\n",
       "         'character': 3,\n",
       "         'and': 3,\n",
       "         'need': 3,\n",
       "         'can': 3,\n",
       "         'is': 2,\n",
       "         'empire': 2,\n",
       "         'our': 2,\n",
       "         'hope': 2,\n",
       "         'win': 2,\n",
       "         'their': 2,\n",
       "         'galaxy': 1,\n",
       "         'in': 1,\n",
       "         'turmoil': 1,\n",
       "         'rebels': 1,\n",
       "         'are': 1,\n",
       "         'fighting': 1,\n",
       "         'overthrow': 1,\n",
       "         'find': 1,\n",
       "         'way': 1,\n",
       "         'communicate': 1,\n",
       "         'with': 1,\n",
       "         'leaders': 1,\n",
       "         'cant': 1,\n",
       "         'let': 1,\n",
       "         'forces': 1,\n",
       "         'of': 1,\n",
       "         'darkness': 1,\n",
       "         'take': 1,\n",
       "         'over': 1,\n",
       "         'world': 1,\n",
       "         'b': 1,\n",
       "         'i': 1,\n",
       "         'agree': 1,\n",
       "         'resistance': 1,\n",
       "         'only': 1,\n",
       "         'but': 1,\n",
       "         'how': 1,\n",
       "         'gain': 1,\n",
       "         'support': 1,\n",
       "         'from': 1,\n",
       "         'people': 1,\n",
       "         'strategy': 1,\n",
       "         'hearts': 1,\n",
       "         'minds': 1,\n",
       "         'unite': 1,\n",
       "         'them': 1,\n",
       "         'against': 1,\n",
       "         'must': 1,\n",
       "         'focus': 1,\n",
       "         'on': 1,\n",
       "         'key': 1,\n",
       "         'battles': 1,\n",
       "         'disrupt': 1,\n",
       "         'communication': 1,\n",
       "         'lines': 1,\n",
       "         'also': 1,\n",
       "         'create': 1,\n",
       "         'powerful': 1,\n",
       "         'message': 1,\n",
       "         'that': 1,\n",
       "         'inspires': 1,\n",
       "         'if': 1,\n",
       "         'sway': 1,\n",
       "         'public': 1,\n",
       "         'opinion': 1,\n",
       "         'this': 1,\n",
       "         'war': 1})"
      ]
     },
     "execution_count": 5,
     "metadata": {},
     "output_type": "execute_result"
    }
   ],
   "source": [
    "freq = Counter(words)\n",
    "freq"
   ]
  },
  {
   "cell_type": "code",
   "execution_count": 6,
   "id": "a59e384c-1d2b-42c7-9c0a-c04371375fc5",
   "metadata": {},
   "outputs": [
    {
     "data": {
      "text/plain": [
       "[('the', 9)]"
      ]
     },
     "execution_count": 6,
     "metadata": {},
     "output_type": "execute_result"
    }
   ],
   "source": [
    "freq.most_common(1)"
   ]
  },
  {
   "cell_type": "code",
   "execution_count": null,
   "id": "160f4eb6-2537-404f-bc0c-cae881aa7778",
   "metadata": {},
   "outputs": [],
   "source": []
  }
 ],
 "metadata": {
  "kernelspec": {
   "display_name": "Python 3 (ipykernel)",
   "language": "python",
   "name": "python3"
  },
  "language_info": {
   "codemirror_mode": {
    "name": "ipython",
    "version": 3
   },
   "file_extension": ".py",
   "mimetype": "text/x-python",
   "name": "python",
   "nbconvert_exporter": "python",
   "pygments_lexer": "ipython3",
   "version": "3.12.4"
  }
 },
 "nbformat": 4,
 "nbformat_minor": 5
}
