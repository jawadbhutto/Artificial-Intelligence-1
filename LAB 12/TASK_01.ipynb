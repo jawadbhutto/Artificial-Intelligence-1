{
 "cells": [
  {
   "cell_type": "code",
   "execution_count": 55,
   "id": "71bef8ae-6a73-46fc-823c-79bc0ea128e9",
   "metadata": {},
   "outputs": [],
   "source": [
    "#TAsk 2 by mySelf\n",
    "import numpy as np"
   ]
  },
  {
   "cell_type": "code",
   "execution_count": 56,
   "id": "aa766239-9e8c-4138-85a0-3826ce697d03",
   "metadata": {},
   "outputs": [],
   "source": [
    "input = [[2,3,4],\n",
    "                  [3,4,5],\n",
    "                  [5,6,7]]\n",
    "\n",
    "weights = { 'node_1_1': np.array([1,1,1]),\n",
    "           'node_1_2': np.array([1,2,-1]),\n",
    "           'node_1_3': np.array([3,-2,1]),\n",
    "           'node_1_4': np.array([1,-1,-1]),\n",
    "           'node_2_1': np.array([2,1,2,1]),\n",
    "           'node_2_2': np.array([1,2,-1,2]),\n",
    "           'node_2_3': np.array([1,-2,1,-2]),\n",
    "           'node_2_4': np.array([1,-1,-1,1]),\n",
    "           'output' : np.array([1,3,2,1])\n",
    "}\n",
    "\n",
    "def relu(input):\n",
    "    output = max(0,input)\n",
    "    return output"
   ]
  },
  {
   "cell_type": "code",
   "execution_count": 57,
   "id": "fa95da57-8316-4fc2-9957-21ef7e0c24bd",
   "metadata": {},
   "outputs": [],
   "source": [
    "def predict_with_network(input_data, weights):\n",
    "    # Calculate node 1 in the first hidden layer\n",
    "    node_1_1_input = (input_data * weights['node_1_1']).sum()\n",
    "    node_1_1_output = relu(node_1_1_input)\n",
    "\n",
    "    # Calculate node 2 in the first hidden layer\n",
    "    node_1_2_input = (input_data * weights['node_1_2']).sum()\n",
    "    node_1_2_output = relu(node_1_2_input)\n",
    "\n",
    "    # Calculate node 3 in the first hidden layer\n",
    "    node_1_3_input = (input_data * weights['node_1_3']).sum()\n",
    "    node_1_3_output = relu(node_1_3_input)\n",
    "\n",
    "    # Calculate node 4 in the first hidden layer\n",
    "    node_1_4_input = (input_data * weights['node_1_4']).sum()\n",
    "    node_1_4_output = relu(node_1_4_input)\n",
    "\n",
    "    # Put node values into array: hidden_1_outputs\n",
    "    hidden_1_outputs = np.array([node_1_1_output, node_1_2_output, node_1_3_output, node_1_4_output])\n",
    "\n",
    "        # Calculate node 1 in the Second hidden layer\n",
    "    node_2_1_input = (hidden_1_outputs * weights['node_2_1']).sum()\n",
    "    node_2_1_output = relu(node_2_1_input)\n",
    "\n",
    "    # Calculate node 2 in the Second  hidden layer\n",
    "    node_2_2_input = (hidden_1_outputs * weights['node_2_2']).sum()\n",
    "    node_2_2_output = relu(node_2_2_input)\n",
    "\n",
    "    # Calculate node 3 in the Second  hidden layer\n",
    "    node_2_3_input = (hidden_1_outputs * weights['node_2_3']).sum()\n",
    "    node_2_3_output = relu(node_2_3_input)\n",
    "\n",
    "    # Calculate node 4 in the Second  hidden layer\n",
    "    node_2_4_input = (hidden_1_outputs * weights['node_2_4']).sum()\n",
    "    node_2_4_output = relu(node_2_4_input)\n",
    "\n",
    "    # Put node values into array: hidden_2_outputs\n",
    "    hidden_2_outputs = np.array([node_2_1_output, node_2_2_output, node_2_3_output, node_2_4_output])\n",
    "    \n",
    "    # Calculate output here: model_output\n",
    "    model_output = (hidden_2_outputs * weights['output']).sum()\n",
    "    \n",
    "    # Return model_output\n",
    "    return(model_output)"
   ]
  },
  {
   "cell_type": "code",
   "execution_count": 58,
   "id": "8a6ecf1c-4ba0-4ac3-b857-11eb578603d9",
   "metadata": {},
   "outputs": [
    {
     "data": {
      "text/plain": [
       "80"
      ]
     },
     "execution_count": 58,
     "metadata": {},
     "output_type": "execute_result"
    }
   ],
   "source": [
    "predict_with_network(input[0],weights)"
   ]
  },
  {
   "cell_type": "code",
   "execution_count": 59,
   "id": "44297e82-0ba3-4c15-b061-9a8a48de23ff",
   "metadata": {},
   "outputs": [
    {
     "data": {
      "text/plain": [
       "108"
      ]
     },
     "execution_count": 59,
     "metadata": {},
     "output_type": "execute_result"
    }
   ],
   "source": [
    "predict_with_network(input[1],weights)"
   ]
  },
  {
   "cell_type": "code",
   "execution_count": 60,
   "id": "51621e20-a72c-475d-892a-0ee69461b12b",
   "metadata": {},
   "outputs": [
    {
     "data": {
      "text/plain": [
       "166"
      ]
     },
     "execution_count": 60,
     "metadata": {},
     "output_type": "execute_result"
    }
   ],
   "source": [
    "predict_with_network(input[2],weights)"
   ]
  },
  {
   "cell_type": "code",
   "execution_count": 61,
   "id": "499046c8-60f5-4e50-9014-82794dbec41f",
   "metadata": {},
   "outputs": [
    {
     "name": "stdout",
     "output_type": "stream",
     "text": [
      "Hidden Layer 1 Outputs:\n",
      " [[ 9  4  4  0]\n",
      " [12  6  6  0]\n",
      " [18 10 10  0]]\n",
      "Hidden Layer 2 Outputs:\n",
      " [[30 13  5  1]\n",
      " [42 18  6  0]\n",
      " [66 28  8  0]]\n",
      "Final Output:\n",
      " [ 80 108 166]\n"
     ]
    }
   ],
   "source": [
    "#Throw ChatGPT\n",
    "import numpy as np\n",
    "\n",
    "# Define the ReLU activation function\n",
    "def relu(input):\n",
    "    return np.maximum(0, input)\n",
    "\n",
    "# Inputs\n",
    "input_data = np.array([[2, 3, 4],\n",
    "                       [3, 4, 5],\n",
    "                       [5, 6, 7]])\n",
    "\n",
    "# Weights for all layers\n",
    "weights = {\n",
    "    'node_1_1': np.array([1, 1, 1]),\n",
    "    'node_1_2': np.array([1, 2, -1]),\n",
    "    'node_1_3': np.array([3, -2, 1]),\n",
    "    'node_1_4': np.array([1, -1, -1]),\n",
    "    'node_2_1': np.array([2, 1, 2, 1]),\n",
    "    'node_2_2': np.array([1, 2, -1, 2]),\n",
    "    'node_2_3': np.array([1, -2, 1, -2]),\n",
    "    'node_2_4': np.array([1, -1, -1, 1]),\n",
    "    'output': np.array([1, 3, 2, 1])\n",
    "}\n",
    "\n",
    "# --- First Layer (Hidden Layer 1) ---\n",
    "# Compute inputs for each node in the first hidden layer\n",
    "node_1_1_input = np.dot(input_data, weights['node_1_1'])\n",
    "node_1_2_input = np.dot(input_data, weights['node_1_2'])\n",
    "node_1_3_input = np.dot(input_data, weights['node_1_3'])\n",
    "node_1_4_input = np.dot(input_data, weights['node_1_4'])\n",
    "\n",
    "# Apply ReLU activation function\n",
    "node_1_1_output = relu(node_1_1_input)\n",
    "node_1_2_output = relu(node_1_2_input)\n",
    "node_1_3_output = relu(node_1_3_input)\n",
    "node_1_4_output = relu(node_1_4_input)\n",
    "\n",
    "# Combine hidden layer 1 outputs\n",
    "hidden_layer_1_output = np.column_stack((node_1_1_output, node_1_2_output, node_1_3_output, node_1_4_output))\n",
    "\n",
    "# --- Second Layer (Hidden Layer 2) ---\n",
    "# Compute inputs for each node in the second hidden layer\n",
    "node_2_1_input = np.dot(hidden_layer_1_output, weights['node_2_1'])\n",
    "node_2_2_input = np.dot(hidden_layer_1_output, weights['node_2_2'])\n",
    "node_2_3_input = np.dot(hidden_layer_1_output, weights['node_2_3'])\n",
    "node_2_4_input = np.dot(hidden_layer_1_output, weights['node_2_4'])\n",
    "\n",
    "# Apply ReLU activation function\n",
    "node_2_1_output = relu(node_2_1_input)\n",
    "node_2_2_output = relu(node_2_2_input)\n",
    "node_2_3_output = relu(node_2_3_input)\n",
    "node_2_4_output = relu(node_2_4_input)\n",
    "\n",
    "# Combine hidden layer 2 outputs\n",
    "hidden_layer_2_output = np.column_stack((node_2_1_output, node_2_2_output, node_2_3_output, node_2_4_output))\n",
    "\n",
    "# --- Output Layer ---\n",
    "# Compute input for the output node\n",
    "output_input = np.dot(hidden_layer_2_output, weights['output'])\n",
    "\n",
    "# Apply ReLU activation function (if needed)\n",
    "final_output = relu(output_input)\n",
    "\n",
    "# Print Results\n",
    "print(\"Hidden Layer 1 Outputs:\\n\", hidden_layer_1_output)\n",
    "print(\"Hidden Layer 2 Outputs:\\n\", hidden_layer_2_output)\n",
    "print(\"Final Output:\\n\", final_output)\n"
   ]
  },
  {
   "cell_type": "code",
   "execution_count": null,
   "id": "80e4d036-e982-4dd7-86dd-d950f8561d0b",
   "metadata": {},
   "outputs": [],
   "source": []
  },
  {
   "cell_type": "code",
   "execution_count": null,
   "id": "8b1bc496-9825-43f7-ab31-09fde9f10d32",
   "metadata": {},
   "outputs": [],
   "source": []
  },
  {
   "cell_type": "code",
   "execution_count": null,
   "id": "e465339d-3f2e-4844-b713-309d6a650ad8",
   "metadata": {},
   "outputs": [],
   "source": []
  }
 ],
 "metadata": {
  "kernelspec": {
   "display_name": "Python 3 (ipykernel)",
   "language": "python",
   "name": "python3"
  },
  "language_info": {
   "codemirror_mode": {
    "name": "ipython",
    "version": 3
   },
   "file_extension": ".py",
   "mimetype": "text/x-python",
   "name": "python",
   "nbconvert_exporter": "python",
   "pygments_lexer": "ipython3",
   "version": "3.12.4"
  }
 },
 "nbformat": 4,
 "nbformat_minor": 5
}
