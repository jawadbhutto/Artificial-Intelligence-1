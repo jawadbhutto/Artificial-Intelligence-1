{
 "cells": [
  {
   "cell_type": "code",
   "execution_count": 1,
   "id": "80b5cece-eec4-4dac-b4ec-eed2f3e0c4c3",
   "metadata": {},
   "outputs": [],
   "source": [
    "import numpy as np"
   ]
  },
  {
   "cell_type": "code",
   "execution_count": 36,
   "id": "9919e895-56e7-468c-a7c3-313cda1e8b6b",
   "metadata": {},
   "outputs": [
    {
     "data": {
      "text/plain": [
       "1.67"
      ]
     },
     "execution_count": 36,
     "metadata": {},
     "output_type": "execute_result"
    }
   ],
   "source": [
    "#TAsk 1_1\n",
    "input_data = np.array([1,1])\n",
    "weights = {'node_1_1': np.array([0.8,0.2]),\n",
    "           'node_1_2': np.array([0.4,0.9]),\n",
    "           'node_1_3': np.array([0.3,0.5]),\n",
    "           'output': np.array([0.3,0.5,0.9]) }\n",
    "\n",
    "node0_input = (input_data * weights['node_1_1']).sum()\n",
    "node1_input = (input_data * weights['node_1_2']).sum()\n",
    "node2_input = (input_data * weights['node_1_3']).sum()\n",
    "\n",
    "hidden_layer = np.array([node0_input,node1_input,node2_input])\n",
    "\n",
    "output = (hidden_layer * weights['output']).sum()\n",
    "output"
   ]
  },
  {
   "cell_type": "code",
   "execution_count": 42,
   "id": "89131eea-f151-40b9-a59b-4c14bb8b02e4",
   "metadata": {},
   "outputs": [
    {
     "data": {
      "text/plain": [
       "1.67"
      ]
     },
     "execution_count": 42,
     "metadata": {},
     "output_type": "execute_result"
    }
   ],
   "source": [
    "#Task 1_2 (perform relu)\n",
    "def relu(input):\n",
    "    output = max(0,input)\n",
    "    return output\n",
    "\n",
    "node0_input = (input_data * weights['node_1_1']).sum()\n",
    "node0_output = relu(node0_input)\n",
    "\n",
    "node1_input = (input_data * weights['node_1_2']).sum()\n",
    "node1_output = relu(node1_input)\n",
    "\n",
    "node2_input = (input_data * weights['node_1_3']).sum()\n",
    "node2_output = relu(node2_input)\n",
    "\n",
    "hidden_layer_input = np.array([node0_output,node1_output,node2_output])\n",
    "\n",
    "output = relu((hidden_layer * weights['output']).sum())\n",
    "output"
   ]
  },
  {
   "cell_type": "code",
   "execution_count": 53,
   "id": "4bc575e7-aa5a-421b-a9b1-17431b0a47af",
   "metadata": {},
   "outputs": [
    {
     "data": {
      "text/plain": [
       "1.2569729196844468"
      ]
     },
     "execution_count": 53,
     "metadata": {},
     "output_type": "execute_result"
    }
   ],
   "source": [
    "#task 1\n",
    "\n",
    "node0_input = (input_data * weights['node_1_1']).sum()\n",
    "node0_output = np.tanh(node0_input)\n",
    "\n",
    "node1_input = (input_data * weights['node_1_2']).sum()\n",
    "node1_output = np.tanh(node1_input)\n",
    "\n",
    "node2_input = (input_data * weights['node_1_3']).sum()\n",
    "node2_output = np.tanh(node2_input)\n",
    "\n",
    "hidden_layer_input = np.array([node0_output,node1_output,node2_output])\n",
    "\n",
    "output = ((hidden_layer_input * weights['output']).sum())\n",
    "output"
   ]
  },
  {
   "cell_type": "code",
   "execution_count": null,
   "id": "a2783700-95c4-4aba-8d2d-1ad5e466c7da",
   "metadata": {},
   "outputs": [],
   "source": []
  },
  {
   "cell_type": "code",
   "execution_count": null,
   "id": "60dc34da-b3d4-4545-8ab5-ac6abb8d1551",
   "metadata": {},
   "outputs": [],
   "source": []
  }
 ],
 "metadata": {
  "kernelspec": {
   "display_name": "Python 3 (ipykernel)",
   "language": "python",
   "name": "python3"
  },
  "language_info": {
   "codemirror_mode": {
    "name": "ipython",
    "version": 3
   },
   "file_extension": ".py",
   "mimetype": "text/x-python",
   "name": "python",
   "nbconvert_exporter": "python",
   "pygments_lexer": "ipython3",
   "version": "3.12.4"
  }
 },
 "nbformat": 4,
 "nbformat_minor": 5
}
