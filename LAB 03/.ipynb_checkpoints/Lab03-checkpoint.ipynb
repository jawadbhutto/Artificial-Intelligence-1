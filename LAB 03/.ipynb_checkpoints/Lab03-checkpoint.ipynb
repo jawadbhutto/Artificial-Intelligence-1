{
 "cells": [
  {
   "cell_type": "markdown",
   "id": "7e825d59",
   "metadata": {},
   "source": [
    "<h1>Tuples</h1>"
   ]
  },
  {
   "cell_type": "code",
   "execution_count": 1,
   "id": "c7e42b6b",
   "metadata": {},
   "outputs": [
    {
     "name": "stdout",
     "output_type": "stream",
     "text": [
      "[1, 2, 5, 4]\n"
     ]
    }
   ],
   "source": [
    "my_list=[1,2,3,4]\n",
    "my_list[2]=5\n",
    "print(my_list)"
   ]
  },
  {
   "cell_type": "code",
   "execution_count": 15,
   "id": "bea63dbd",
   "metadata": {},
   "outputs": [
    {
     "name": "stdout",
     "output_type": "stream",
     "text": [
      "<class 'tuple'>\n",
      "(1, 2, ['Monday', 'Tuesday'])\n"
     ]
    }
   ],
   "source": [
    "#1.Creating a Tuple:\n",
    "my_tuple=(1,2,[\"Monday\",\"Tuesday\"])\n",
    "print(type(my_tuple))\n",
    "print(my_tuple)"
   ]
  },
  {
   "cell_type": "code",
   "execution_count": 6,
   "id": "5ea941d1",
   "metadata": {},
   "outputs": [
    {
     "name": "stdout",
     "output_type": "stream",
     "text": [
      "['Monday', 'Tuesday']\n",
      "(1,)\n",
      "['Monday', 'Tuesday']\n",
      "(1, 2, ['Monday', 'Tuesday'])\n"
     ]
    }
   ],
   "source": [
    "#2.Accessing elements of a tuple:\n",
    "print(my_tuple[2])\n",
    "print(my_tuple[0:1])\n",
    "print(my_tuple[-1])\n",
    "print(my_tuple[0:])"
   ]
  },
  {
   "cell_type": "code",
   "execution_count": 7,
   "id": "2aa2f975",
   "metadata": {},
   "outputs": [
    {
     "ename": "TypeError",
     "evalue": "'tuple' object does not support item assignment",
     "output_type": "error",
     "traceback": [
      "\u001b[1;31m---------------------------------------------------------------------------\u001b[0m",
      "\u001b[1;31mTypeError\u001b[0m                                 Traceback (most recent call last)",
      "\u001b[1;32m<ipython-input-7-b57f2707e66d>\u001b[0m in \u001b[0;36m<module>\u001b[1;34m\u001b[0m\n\u001b[0;32m      1\u001b[0m \u001b[1;31m#3.Updating elements?\u001b[0m\u001b[1;33m\u001b[0m\u001b[1;33m\u001b[0m\u001b[1;33m\u001b[0m\u001b[0m\n\u001b[1;32m----> 2\u001b[1;33m \u001b[0mmy_tuple\u001b[0m\u001b[1;33m[\u001b[0m\u001b[1;36m1\u001b[0m\u001b[1;33m]\u001b[0m\u001b[1;33m=\u001b[0m\u001b[1;36m5\u001b[0m\u001b[1;33m\u001b[0m\u001b[1;33m\u001b[0m\u001b[0m\n\u001b[0m",
      "\u001b[1;31mTypeError\u001b[0m: 'tuple' object does not support item assignment"
     ]
    }
   ],
   "source": [
    "#3.Updating elements?\n",
    "my_tuple[1]=5"
   ]
  },
  {
   "cell_type": "code",
   "execution_count": 8,
   "id": "580dd076",
   "metadata": {},
   "outputs": [
    {
     "ename": "TypeError",
     "evalue": "'tuple' object does not support item assignment",
     "output_type": "error",
     "traceback": [
      "\u001b[1;31m---------------------------------------------------------------------------\u001b[0m",
      "\u001b[1;31mTypeError\u001b[0m                                 Traceback (most recent call last)",
      "\u001b[1;32m<ipython-input-8-a46f0e0aa3d3>\u001b[0m in \u001b[0;36m<module>\u001b[1;34m\u001b[0m\n\u001b[1;32m----> 1\u001b[1;33m \u001b[0mmy_tuple\u001b[0m\u001b[1;33m[\u001b[0m\u001b[1;36m3\u001b[0m\u001b[1;33m]\u001b[0m\u001b[1;33m=\u001b[0m\u001b[1;36m2\u001b[0m\u001b[1;33m\u001b[0m\u001b[1;33m\u001b[0m\u001b[0m\n\u001b[0m\u001b[0;32m      2\u001b[0m \u001b[0mmy_tuple\u001b[0m\u001b[1;33m.\u001b[0m\u001b[0mappend\u001b[0m\u001b[1;33m(\u001b[0m\u001b[1;36m4\u001b[0m\u001b[1;33m)\u001b[0m\u001b[1;33m\u001b[0m\u001b[1;33m\u001b[0m\u001b[0m\n",
      "\u001b[1;31mTypeError\u001b[0m: 'tuple' object does not support item assignment"
     ]
    }
   ],
   "source": [
    "my_tuple[3]=2\n",
    "my_tuple.append(4)"
   ]
  },
  {
   "cell_type": "code",
   "execution_count": 9,
   "id": "a15f6ab3",
   "metadata": {},
   "outputs": [
    {
     "ename": "AttributeError",
     "evalue": "'tuple' object has no attribute 'remove'",
     "output_type": "error",
     "traceback": [
      "\u001b[1;31m---------------------------------------------------------------------------\u001b[0m",
      "\u001b[1;31mAttributeError\u001b[0m                            Traceback (most recent call last)",
      "\u001b[1;32m<ipython-input-9-75eb1afa3f51>\u001b[0m in \u001b[0;36m<module>\u001b[1;34m\u001b[0m\n\u001b[0;32m      1\u001b[0m \u001b[1;31m#4.Removing elements from a tuple:\u001b[0m\u001b[1;33m\u001b[0m\u001b[1;33m\u001b[0m\u001b[1;33m\u001b[0m\u001b[0m\n\u001b[1;32m----> 2\u001b[1;33m \u001b[0mmy_tuple\u001b[0m\u001b[1;33m.\u001b[0m\u001b[0mremove\u001b[0m\u001b[1;33m(\u001b[0m\u001b[1;36m2\u001b[0m\u001b[1;33m)\u001b[0m\u001b[1;33m\u001b[0m\u001b[1;33m\u001b[0m\u001b[0m\n\u001b[0m",
      "\u001b[1;31mAttributeError\u001b[0m: 'tuple' object has no attribute 'remove'"
     ]
    }
   ],
   "source": [
    "#4.Removing elements from a tuple:\n",
    "my_tuple.remove(2)"
   ]
  },
  {
   "cell_type": "code",
   "execution_count": 12,
   "id": "83973a66",
   "metadata": {},
   "outputs": [
    {
     "name": "stdout",
     "output_type": "stream",
     "text": [
      "(1, 2, ['Monday', 'Tuesday'])\n"
     ]
    }
   ],
   "source": [
    "print(my_tuple)"
   ]
  },
  {
   "cell_type": "code",
   "execution_count": 16,
   "id": "4b6178cf",
   "metadata": {},
   "outputs": [
    {
     "name": "stdout",
     "output_type": "stream",
     "text": [
      "(2, ['Monday', 'Tuesday'])\n"
     ]
    }
   ],
   "source": [
    "#4.Alternate way for removal of elements:\n",
    "my_list=list(my_tuple)\n",
    "del my_list[0]\n",
    "new_tuple=tuple(my_list)\n",
    "print(new_tuple)"
   ]
  },
  {
   "cell_type": "code",
   "execution_count": 17,
   "id": "25d147d2",
   "metadata": {},
   "outputs": [
    {
     "name": "stdout",
     "output_type": "stream",
     "text": [
      "(1, 2, ['Monday', 'Tuesday'], 3, 4)\n"
     ]
    }
   ],
   "source": [
    "new_tuple=my_tuple[:]+tuple((3,4))\n",
    "print(new_tuple)"
   ]
  },
  {
   "cell_type": "code",
   "execution_count": null,
   "id": "a387ddbe",
   "metadata": {},
   "outputs": [],
   "source": [
    "print(my_tuple)"
   ]
  },
  {
   "cell_type": "code",
   "execution_count": null,
   "id": "843e10a2",
   "metadata": {},
   "outputs": [],
   "source": [
    "new_list=list(my_tuple)\n",
    "print(new_list)\n",
    "del new_list[1]\n",
    "new_tuple=tuple(new_list)\n",
    "print(new_tuple)"
   ]
  },
  {
   "cell_type": "code",
   "execution_count": 18,
   "id": "f16f2127",
   "metadata": {},
   "outputs": [
    {
     "name": "stdout",
     "output_type": "stream",
     "text": [
      "True\n",
      "False\n"
     ]
    }
   ],
   "source": [
    "#5.Checking value exits in a tuple or not\n",
    "print(2 in new_tuple)\n",
    "print(5 in new_tuple)"
   ]
  },
  {
   "cell_type": "code",
   "execution_count": 19,
   "id": "045f838c",
   "metadata": {},
   "outputs": [
    {
     "name": "stdout",
     "output_type": "stream",
     "text": [
      "1\n",
      "2\n",
      "['Monday', 'Tuesday']\n",
      "3\n",
      "4\n"
     ]
    }
   ],
   "source": [
    "#6.Traversing a tuple\n",
    "for val in new_tuple:\n",
    "    print(val)"
   ]
  },
  {
   "cell_type": "markdown",
   "id": "d260223c",
   "metadata": {},
   "source": [
    "<h1>Dictionaries</h1>"
   ]
  },
  {
   "cell_type": "code",
   "execution_count": 20,
   "id": "7d596506",
   "metadata": {},
   "outputs": [
    {
     "name": "stdout",
     "output_type": "stream",
     "text": [
      "<class 'dict'>\n"
     ]
    }
   ],
   "source": [
    "#1.Creating an empty dictionary and checking its type\n",
    "my_dictionary={}\n",
    "print(type(my_dictionary))"
   ]
  },
  {
   "cell_type": "code",
   "execution_count": 21,
   "id": "3e9d73e9",
   "metadata": {},
   "outputs": [
    {
     "name": "stdout",
     "output_type": "stream",
     "text": [
      "{1: 'one', 2: 'two', 3: 'three'}\n"
     ]
    }
   ],
   "source": [
    "#1.Creating Dictionary with elements\n",
    "my_dictionary={1:'one',2:'two',3:'three'}\n",
    "print(my_dictionary)"
   ]
  },
  {
   "cell_type": "code",
   "execution_count": 22,
   "id": "ea45cb14",
   "metadata": {},
   "outputs": [
    {
     "name": "stdout",
     "output_type": "stream",
     "text": [
      "{1: 'one', 2: 'two', 3: 'three'}\n"
     ]
    }
   ],
   "source": [
    "#1.Creating Dictionary with elements (another way)\n",
    "my_dictionary=dict([(1,\"one\"),(2,\"two\"),(3,\"three\")])\n",
    "print(my_dictionary)"
   ]
  },
  {
   "cell_type": "code",
   "execution_count": 27,
   "id": "4d97e451",
   "metadata": {},
   "outputs": [
    {
     "name": "stdout",
     "output_type": "stream",
     "text": [
      "II\n",
      "I\n"
     ]
    }
   ],
   "source": [
    "#2.Accessing element\n",
    "my_dictionary=dict([(\"One\",\"I\"),(\"Two\",\"II\")])\n",
    "print(my_dictionary[\"Two\"])\n",
    "print(my_dictionary.get(\"One\"))"
   ]
  },
  {
   "cell_type": "code",
   "execution_count": 28,
   "id": "41a1856e",
   "metadata": {},
   "outputs": [],
   "source": [
    "#3.Updating elements\n",
    "my_dictionary={1:'one',2:'two',3:'three'}\n",
    "my_dictionary[1]=\"I\"\n",
    "my_dictionary[2]=\"II\"\n",
    "my_dictionary.update({3:\"III\"})"
   ]
  },
  {
   "cell_type": "code",
   "execution_count": 29,
   "id": "57c2afb7",
   "metadata": {},
   "outputs": [
    {
     "name": "stdout",
     "output_type": "stream",
     "text": [
      "{1: 'I', 2: 'II', 3: 'III'}\n"
     ]
    }
   ],
   "source": [
    "print(my_dictionary)"
   ]
  },
  {
   "cell_type": "code",
   "execution_count": 30,
   "id": "8244005e",
   "metadata": {},
   "outputs": [],
   "source": [
    "#4.Adding new elements\n",
    "my_dictionary[4]=\"IV\"\n",
    "my_dictionary.update({5:\"V\"})"
   ]
  },
  {
   "cell_type": "code",
   "execution_count": 31,
   "id": "8aa9ae34",
   "metadata": {},
   "outputs": [
    {
     "name": "stdout",
     "output_type": "stream",
     "text": [
      "{1: 'I', 2: 'II', 3: 'III', 4: 'IV', 5: 'V'}\n"
     ]
    }
   ],
   "source": [
    "print(my_dictionary)"
   ]
  },
  {
   "cell_type": "code",
   "execution_count": 32,
   "id": "fe63be4b",
   "metadata": {},
   "outputs": [
    {
     "name": "stdout",
     "output_type": "stream",
     "text": [
      "{1: 'I', 2: 'II', 3: 'III', 4: 'IV'}\n"
     ]
    }
   ],
   "source": [
    "#5.Removing elements\n",
    "del my_dictionary[5]\n",
    "print(my_dictionary)"
   ]
  },
  {
   "cell_type": "code",
   "execution_count": 33,
   "id": "12c6caae",
   "metadata": {
    "scrolled": true
   },
   "outputs": [
    {
     "name": "stdout",
     "output_type": "stream",
     "text": [
      "I\n",
      "{2: 'II', 3: 'III', 4: 'IV'}\n"
     ]
    }
   ],
   "source": [
    "deleted_value=my_dictionary.pop(1)\n",
    "print(deleted_value)\n",
    "print(my_dictionary)"
   ]
  },
  {
   "cell_type": "code",
   "execution_count": 35,
   "id": "97f50a86",
   "metadata": {},
   "outputs": [
    {
     "name": "stdout",
     "output_type": "stream",
     "text": [
      "Key Doesn't Exist\n"
     ]
    }
   ],
   "source": [
    "#6.Checking if key exits in dictionary\n",
    "if 2 in my_dictionary:\n",
    "    del my_dictionary[2]\n",
    "else:\n",
    "    print(\"Key Doesn't Exist\")"
   ]
  },
  {
   "cell_type": "code",
   "execution_count": null,
   "id": "3bdda474",
   "metadata": {},
   "outputs": [],
   "source": [
    "#6.Checking if key doesn't exits in dictionary\n",
    "if 5 not in my_dictionary:\n",
    "    print(True)\n",
    "else:\n",
    "    print(False)"
   ]
  },
  {
   "cell_type": "code",
   "execution_count": 36,
   "id": "34de6000",
   "metadata": {},
   "outputs": [
    {
     "name": "stdout",
     "output_type": "stream",
     "text": [
      "dict_keys([3, 4]) dict_values(['III', 'IV'])\n"
     ]
    }
   ],
   "source": [
    "#Getting keys and values:\n",
    "keys=my_dictionary.keys()\n",
    "values=my_dictionary.values()\n",
    "print(keys, values)"
   ]
  },
  {
   "cell_type": "code",
   "execution_count": 37,
   "id": "28164eb4",
   "metadata": {},
   "outputs": [
    {
     "name": "stdout",
     "output_type": "stream",
     "text": [
      "3\tIII\n",
      "4\tIV\n"
     ]
    }
   ],
   "source": [
    "for key,value in my_dictionary.items():\n",
    "    print(key,value,sep=\"\\t\")"
   ]
  },
  {
   "cell_type": "code",
   "execution_count": 38,
   "id": "95ccb312",
   "metadata": {},
   "outputs": [
    {
     "name": "stdout",
     "output_type": "stream",
     "text": [
      "{3: 'III', 4: 'IV', 5: 'V', 6: 'VI'}\n"
     ]
    }
   ],
   "source": [
    "#Merging a Dictionary:\n",
    "my_dictionary2={5:\"V\",6:\"VI\"}\n",
    "my_dictionary.update(my_dictionary2)\n",
    "print(my_dictionary)"
   ]
  },
  {
   "cell_type": "code",
   "execution_count": 39,
   "id": "07e31d95",
   "metadata": {},
   "outputs": [
    {
     "name": "stdout",
     "output_type": "stream",
     "text": [
      "('a', 'e', 'i', 'o', 'u')\n",
      "[1, 2, 3, 4, 5]\n"
     ]
    }
   ],
   "source": [
    "my_dictionary={\"Vowels\":('a','e','i','o','u'),\"Numbers\":[1,2,3,4,5]}\n",
    "print(my_dictionary[\"Vowels\"])\n",
    "print(my_dictionary[\"Numbers\"])\n"
   ]
  },
  {
   "cell_type": "markdown",
   "id": "3eaf7860",
   "metadata": {},
   "source": [
    "<h1>Functions</h1>"
   ]
  },
  {
   "cell_type": "code",
   "execution_count": 41,
   "id": "212745f5",
   "metadata": {},
   "outputs": [],
   "source": [
    "#1. Defining and calling functions\n",
    "#defining without parameters:\n",
    "def greet():\n",
    "    print(\"Hello\")"
   ]
  },
  {
   "cell_type": "code",
   "execution_count": 42,
   "id": "9bbc957e",
   "metadata": {},
   "outputs": [
    {
     "name": "stdout",
     "output_type": "stream",
     "text": [
      "Hello\n"
     ]
    }
   ],
   "source": [
    "#calling:\n",
    "greet()"
   ]
  },
  {
   "cell_type": "code",
   "execution_count": 43,
   "id": "158900b3",
   "metadata": {},
   "outputs": [],
   "source": [
    "#defining:\n",
    "def greet(name):\n",
    "    print(\"Hello \"+name+\"!\")"
   ]
  },
  {
   "cell_type": "code",
   "execution_count": 44,
   "id": "f8bf2459",
   "metadata": {},
   "outputs": [
    {
     "name": "stdout",
     "output_type": "stream",
     "text": [
      "Hello Sam!\n"
     ]
    }
   ],
   "source": [
    "#Calling:\n",
    "greet(\"Sam\")"
   ]
  },
  {
   "cell_type": "code",
   "execution_count": null,
   "id": "9625d99c",
   "metadata": {},
   "outputs": [],
   "source": [
    "#2.Function Arguments:\n",
    "def greet(first_name,last_name):\n",
    "    print(\"Hello \"+first_name+\" \"+last_name)"
   ]
  },
  {
   "cell_type": "code",
   "execution_count": null,
   "id": "ef380900",
   "metadata": {},
   "outputs": [],
   "source": [
    "#Function Arguments:\n",
    "greet(\"Jhon\",\"Doe\")"
   ]
  },
  {
   "cell_type": "code",
   "execution_count": 45,
   "id": "1d290bfa",
   "metadata": {},
   "outputs": [],
   "source": [
    "#Default Arguments:\n",
    "def greet(name=\"World!\"):\n",
    "    print(\"Hello\"+\" \"+name)"
   ]
  },
  {
   "cell_type": "code",
   "execution_count": 46,
   "id": "97381ed1",
   "metadata": {},
   "outputs": [
    {
     "name": "stdout",
     "output_type": "stream",
     "text": [
      "Hello World!\n",
      "Hello Jhon\n"
     ]
    }
   ],
   "source": [
    "greet()\n",
    "greet(\"Jhon\")"
   ]
  },
  {
   "cell_type": "code",
   "execution_count": 47,
   "id": "bfa6127b",
   "metadata": {},
   "outputs": [],
   "source": [
    "#3.Return values from a function\n",
    "def add(num1,num2):\n",
    "    return num1+num2"
   ]
  },
  {
   "cell_type": "code",
   "execution_count": 50,
   "id": "6f2529e8",
   "metadata": {},
   "outputs": [
    {
     "name": "stdout",
     "output_type": "stream",
     "text": [
      "5\n",
      "14\n"
     ]
    }
   ],
   "source": [
    "result=add(3,2)\n",
    "print(result)\n",
    "print(add(5,9))"
   ]
  },
  {
   "cell_type": "code",
   "execution_count": 52,
   "id": "35186485",
   "metadata": {},
   "outputs": [],
   "source": [
    "#Multiple return values\n",
    "def add_and_multiply(num1,num2):\n",
    "    return num1+num2,num1*num2"
   ]
  },
  {
   "cell_type": "code",
   "execution_count": 53,
   "id": "4cb995ee",
   "metadata": {
    "scrolled": true
   },
   "outputs": [
    {
     "name": "stdout",
     "output_type": "stream",
     "text": [
      "9\n",
      "20\n"
     ]
    }
   ],
   "source": [
    "result1,result2=add_and_multiply(5,4)\n",
    "print(result1,result2,sep=\"\\n\")"
   ]
  },
  {
   "cell_type": "code",
   "execution_count": 54,
   "id": "91abd4de",
   "metadata": {},
   "outputs": [],
   "source": [
    "#4.Global keyword\n",
    "x=20\n",
    "def change_x():\n",
    "    x=10\n",
    "    print(x)"
   ]
  },
  {
   "cell_type": "code",
   "execution_count": 55,
   "id": "1d8bda40",
   "metadata": {},
   "outputs": [
    {
     "name": "stdout",
     "output_type": "stream",
     "text": [
      "20\n",
      "10\n",
      "20\n"
     ]
    }
   ],
   "source": [
    "print(x)\n",
    "change_x()\n",
    "print(x)"
   ]
  },
  {
   "cell_type": "code",
   "execution_count": 60,
   "id": "cae65675",
   "metadata": {},
   "outputs": [],
   "source": [
    "#4.Global keyword\n",
    "x=20\n",
    "def change_x():\n",
    "    global x\n",
    "    x=10\n",
    "    print(x)"
   ]
  },
  {
   "cell_type": "code",
   "execution_count": 61,
   "id": "16f9113d",
   "metadata": {},
   "outputs": [
    {
     "name": "stdout",
     "output_type": "stream",
     "text": [
      "20\n",
      "10\n",
      "10\n"
     ]
    }
   ],
   "source": [
    "print(x)\n",
    "change_x()\n",
    "print(x)"
   ]
  },
  {
   "cell_type": "code",
   "execution_count": 67,
   "id": "10ff7366",
   "metadata": {},
   "outputs": [],
   "source": [
    "my_tup=((\"Ahmed\",20),(\"Majeed\",30),(\"Subhan\",20),(\"Ghafoor\",30))"
   ]
  },
  {
   "cell_type": "code",
   "execution_count": 79,
   "id": "735184cd",
   "metadata": {},
   "outputs": [
    {
     "name": "stdout",
     "output_type": "stream",
     "text": [
      "('Even', True)\n"
     ]
    }
   ],
   "source": [
    "num=6\n",
    "def even_odd_greater5(val):\n",
    "    val1=\"\"\n",
    "    val2=\"\"\n",
    "    if val%2==0 and val>5:\n",
    "        val1=\"Even\"\n",
    "        val2=True\n",
    "    elif val%2!=0 and val>5:\n",
    "        \n",
    "    elif val%2==0 and val<5:\n",
    "        print(\"Even and False\")\n",
    "    elif val%2!=0 and val<5:\n",
    "        print(\"Odd and False\")\n",
    "    return val1,val2\n",
    "\n",
    "print(even_odd_greater5(num))"
   ]
  },
  {
   "cell_type": "code",
   "execution_count": 80,
   "id": "8e684bbb",
   "metadata": {},
   "outputs": [
    {
     "ename": "NameError",
     "evalue": "name 'python' is not defined",
     "output_type": "error",
     "traceback": [
      "\u001b[1;31m---------------------------------------------------------------------------\u001b[0m",
      "\u001b[1;31mNameError\u001b[0m                                 Traceback (most recent call last)",
      "\u001b[1;32m<ipython-input-80-a4637bbefc43>\u001b[0m in \u001b[0;36m<module>\u001b[1;34m\u001b[0m\n\u001b[1;32m----> 1\u001b[1;33m \u001b[0mpython\u001b[0m \u001b[1;33m-\u001b[0m\u001b[1;33m-\u001b[0m\u001b[0mversion\u001b[0m\u001b[1;33m\u001b[0m\u001b[1;33m\u001b[0m\u001b[0m\n\u001b[0m",
      "\u001b[1;31mNameError\u001b[0m: name 'python' is not defined"
     ]
    }
   ],
   "source": []
  },
  {
   "cell_type": "code",
   "execution_count": null,
   "id": "1a2cdcba",
   "metadata": {},
   "outputs": [],
   "source": [
    "#1. Creating Numpy arrays"
   ]
  },
  {
   "cell_type": "code",
   "execution_count": null,
   "id": "554367ab",
   "metadata": {},
   "outputs": [],
   "source": [
    "import numpy as np"
   ]
  },
  {
   "cell_type": "code",
   "execution_count": null,
   "id": "5e4d74df",
   "metadata": {},
   "outputs": [],
   "source": [
    "arr=np.array([1,2,3,4,5])\n",
    "print(type(arr))\n",
    "print(arr)"
   ]
  },
  {
   "cell_type": "code",
   "execution_count": null,
   "id": "b1759e1a",
   "metadata": {},
   "outputs": [],
   "source": [
    "print(arr[::-1])"
   ]
  },
  {
   "cell_type": "code",
   "execution_count": null,
   "id": "e22b7d1e",
   "metadata": {},
   "outputs": [],
   "source": [
    "#Creating a 2D Array"
   ]
  },
  {
   "cell_type": "code",
   "execution_count": null,
   "id": "19e65b42",
   "metadata": {},
   "outputs": [],
   "source": [
    "my_2d=np.array([[1,2,3,4],[5,6,7,8]])\n",
    "print(my_2d)"
   ]
  },
  {
   "cell_type": "code",
   "execution_count": null,
   "id": "1f5e21d7",
   "metadata": {},
   "outputs": [],
   "source": [
    "print(my_2d[0][3])"
   ]
  },
  {
   "cell_type": "code",
   "execution_count": null,
   "id": "fd27dedc",
   "metadata": {},
   "outputs": [],
   "source": [
    "#slicing\n",
    "print(my_2d[0][2:4])"
   ]
  },
  {
   "cell_type": "code",
   "execution_count": null,
   "id": "f5f6cd53",
   "metadata": {},
   "outputs": [],
   "source": [
    "#2.Array Operations"
   ]
  },
  {
   "cell_type": "code",
   "execution_count": null,
   "id": "69ee974c",
   "metadata": {},
   "outputs": [],
   "source": [
    "#Element wise operations\n",
    "print(arr)\n",
    "print(arr+2)\n",
    "print(arr-2)\n",
    "print(arr*2)\n",
    "print(arr//2)"
   ]
  },
  {
   "cell_type": "code",
   "execution_count": null,
   "id": "1929c3fd",
   "metadata": {},
   "outputs": [],
   "source": [
    "#Element wise operations\n",
    "print(arr,arr,sep=\"\\t\")\n",
    "print(arr+arr)\n",
    "print(arr-arr)\n",
    "print(arr//arr)\n",
    "print(arr*arr)"
   ]
  },
  {
   "cell_type": "code",
   "execution_count": null,
   "id": "feefe0e9",
   "metadata": {},
   "outputs": [],
   "source": [
    "#Dot Product\n",
    "np.dot(arr,arr)"
   ]
  },
  {
   "cell_type": "code",
   "execution_count": null,
   "id": "ed6403fc",
   "metadata": {},
   "outputs": [],
   "source": [
    "#Aggregate Functions\n",
    "print(np.sum(arr))\n",
    "print(np.mean(arr))\n",
    "print(np.min(arr))\n",
    "print(np.max(arr))\n",
    "print(np.std(arr))\n",
    "print(np.var(arr))"
   ]
  },
  {
   "cell_type": "code",
   "execution_count": null,
   "id": "a3e36006",
   "metadata": {},
   "outputs": [],
   "source": [
    "#3.Array Manipulation"
   ]
  },
  {
   "cell_type": "code",
   "execution_count": null,
   "id": "43d40a12",
   "metadata": {},
   "outputs": [],
   "source": [
    "arr=np.array([1,2,3,4,5,6])\n",
    "print(arr.reshape(2,3))"
   ]
  },
  {
   "cell_type": "code",
   "execution_count": null,
   "id": "fc71cf12",
   "metadata": {},
   "outputs": [],
   "source": [
    "arr=arr.reshape((2,3))\n",
    "print(arr)"
   ]
  },
  {
   "cell_type": "code",
   "execution_count": null,
   "id": "7d2dfc97",
   "metadata": {},
   "outputs": [],
   "source": [
    "#Transpose\n",
    "arr.T"
   ]
  },
  {
   "cell_type": "code",
   "execution_count": null,
   "id": "59f5017b",
   "metadata": {},
   "outputs": [],
   "source": [
    "#Flatten into a vector\n",
    "print(arr)\n",
    "print(arr.flatten())"
   ]
  },
  {
   "cell_type": "code",
   "execution_count": null,
   "id": "460b57a9",
   "metadata": {},
   "outputs": [],
   "source": [
    "#One's Matrix\n",
    "ones_matrix=np.ones((4,4),dtype=\"float\")\n",
    "print(ones_matrix)"
   ]
  },
  {
   "cell_type": "code",
   "execution_count": null,
   "id": "07944a2b",
   "metadata": {},
   "outputs": [],
   "source": [
    "#Zero's Matrix\n",
    "zeros_matrix=np.zeros((4,4),dtype=\"int\")\n",
    "print(zeros_matrix)"
   ]
  }
 ],
 "metadata": {
  "kernelspec": {
   "display_name": "Python 3",
   "language": "python",
   "name": "python3"
  },
  "language_info": {
   "codemirror_mode": {
    "name": "ipython",
    "version": 3
   },
   "file_extension": ".py",
   "mimetype": "text/x-python",
   "name": "python",
   "nbconvert_exporter": "python",
   "pygments_lexer": "ipython3",
   "version": "3.8.8"
  }
 },
 "nbformat": 4,
 "nbformat_minor": 5
}
