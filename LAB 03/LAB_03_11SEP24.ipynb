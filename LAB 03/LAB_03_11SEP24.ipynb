{
 "cells": [
  {
   "cell_type": "code",
   "execution_count": 34,
   "id": "104954de-407f-4a2b-a4e0-878e4ecaca9e",
   "metadata": {},
   "outputs": [
    {
     "name": "stdout",
     "output_type": "stream",
     "text": [
      "('Jawad', 'ahmed')\n"
     ]
    }
   ],
   "source": [
    "#Task 01\n",
    "def names(stuple):\n",
    "    greaterThan20=tuple(name for name,age in stuple if age>20)\n",
    "    return greaterThan20\n",
    "my_tuple = ((\"Jawad\",23),(\"Jawad\",14),(\"ahmed\",23),(\"Jawad\",18),)\n",
    "print(names(my_tuple))"
   ]
  },
  {
   "cell_type": "code",
   "execution_count": 55,
   "id": "157b781d-5ffe-4ce8-8443-5d8c935bbb1c",
   "metadata": {},
   "outputs": [],
   "source": [
    "\n",
    "def determine_num(num) :\n",
    "    if num==0:\n",
    "        num1 = \"0 is Not even nor Odd\"\n",
    "    elif num%2==0:\n",
    "        num1 = \"even\"\n",
    "    else :\n",
    "        num1 = \"odd\"\n",
    "    if(num>5):\n",
    "        cond = True\n",
    "    else :\n",
    "        cond = False\n",
    "\n",
    "    return num1,cond\n",
    "\n",
    "def deter(num):\n",
    "    if num%2==0 and num>5 :\n",
    "       return \"Even\",True\n",
    "    elif num%2==0 and num<5 :\n",
    "       return \"Even\",False\n",
    "    elif num%2!=0 and num>5 :\n",
    "       return \"Odd\",True\n",
    "    elif num%2!=0 and num<5 :\n",
    "       return \"Odd\",False\n"
   ]
  },
  {
   "cell_type": "code",
   "execution_count": 56,
   "id": "26587315-1fee-47e8-b908-dc91feddad9c",
   "metadata": {},
   "outputs": [
    {
     "name": "stdout",
     "output_type": "stream",
     "text": [
      "('0 is Not even nor Odd', False)\n",
      "('Odd', True)\n"
     ]
    }
   ],
   "source": [
    "print(determine_num(0))\n",
    "print(deter(7))"
   ]
  },
  {
   "cell_type": "code",
   "execution_count": 37,
   "id": "b8217fb4-b67c-4a36-9944-585a0c7b2122",
   "metadata": {},
   "outputs": [
    {
     "name": "stdout",
     "output_type": "stream",
     "text": [
      "{'Hello World': ('Hello World', 'Jawad', 2022, 'Programming'), 'hello1': ('hello1', 'Ahsan', 2022, 'Programming'), 'Hello2 World': ('Hello2 World', 'Raza', 2022, 'Programming'), 'hello3': ('hello3', 'ahsan', 2022, 'Programming'), 'Hello4 World': ('Hello4 World', 'Naveed', 2022, 'Programming'), 'hello5': ('hello5', 'ahsan', 2022, 'Programming')}\n"
     ]
    }
   ],
   "source": [
    "books={}\n",
    "def add(title,author,publicationyear,genre):\n",
    "    books[title] = (title,author,publicationyear,genre)\n",
    "\n",
    "def search(title):\n",
    "    if title in books :\n",
    "        print(books[title])\n",
    "    else:\n",
    "        print(\"Not Found\")\n",
    "\n",
    "def delete(title):\n",
    "    if title in books :\n",
    "        del books[title]\n",
    "    else:\n",
    "        print(\"Book not exist\")\n",
    "    \n",
    "\n",
    "\n",
    "\n",
    "add(\"Hello World\",\"Jawad\",2022,\"Programming\")\n",
    "add(\"hello1\",\"Ahsan\",2022,\"Programming\")\n",
    "add(\"Hello2 World\",\"Raza\",2022,\"Programming\")\n",
    "add(\"hello3\",\"ahsan\",2022,\"Programming\")\n",
    "add(\"Hello4 World\",\"Naveed\",2022,\"Programming\")\n",
    "add(\"hello5\",\"ahsan\",2022,\"Programming\")\n",
    "print(books)\n"
   ]
  },
  {
   "cell_type": "code",
   "execution_count": null,
   "id": "57385d07-1630-4da3-9fe3-cc744586854a",
   "metadata": {},
   "outputs": [],
   "source": []
  },
  {
   "cell_type": "code",
   "execution_count": null,
   "id": "e293fb0a-56b9-41c6-970d-ecf3e778ac7c",
   "metadata": {},
   "outputs": [],
   "source": []
  }
 ],
 "metadata": {
  "kernelspec": {
   "display_name": "Python 3 (ipykernel)",
   "language": "python",
   "name": "python3"
  },
  "language_info": {
   "codemirror_mode": {
    "name": "ipython",
    "version": 3
   },
   "file_extension": ".py",
   "mimetype": "text/x-python",
   "name": "python",
   "nbconvert_exporter": "python",
   "pygments_lexer": "ipython3",
   "version": "3.12.4"
  }
 },
 "nbformat": 4,
 "nbformat_minor": 5
}
